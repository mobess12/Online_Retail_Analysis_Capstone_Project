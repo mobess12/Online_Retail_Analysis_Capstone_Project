{
  "cells": [
    {
      "cell_type": "markdown",
      "metadata": {
        "id": "0aStgWSO0E0E"
      },
      "source": [
        "# **Online Retail Analysis - Capstone Project**"
      ]
    },
    {
      "cell_type": "markdown",
      "metadata": {},
      "source": [
        "# Data Visualisation"
      ]
    },
    {
      "cell_type": "markdown",
      "metadata": {
        "id": "1eLEkw5O0ECa"
      },
      "source": [
        "## Objectives\n",
        "\n",
        "- Create clear insightful visualisations\n",
        "- Key insights and conclusions for each visusalisation\n",
        "- Hypotheses and t test\n",
        "- RFM clustering\n",
        "- overall conclusion\n",
        "- Suggested solutions for improvements\n",
        "\n",
        "\n",
        "## Inputs\n",
        "\n",
        "- The processed dataset can be found [here](..\\data_set\\processed_data\\Processed_Online_Retail.csv)\n",
        "\n",
        "## Outputs\n",
        "\n",
        "- Insightful visualisations\n",
        "- Key insights and conclusions"
      ]
    },
    {
      "cell_type": "markdown",
      "metadata": {
        "id": "9uWZXH9LwoQg"
      },
      "source": [
        "---"
      ]
    },
    {
      "cell_type": "markdown",
      "metadata": {
        "id": "cqP-UeN-z3i2"
      },
      "source": [
        "# Change working directory"
      ]
    },
    {
      "cell_type": "markdown",
      "metadata": {},
      "source": [
        "* We are assuming you will store the notebooks in a subfolder, therefore when running the notebook in the editor, you will need to change the working directory"
      ]
    },
    {
      "cell_type": "markdown",
      "metadata": {
        "id": "aOGIGS-uz3i2"
      },
      "source": [
        "We need to change the working directory from its current folder to its parent folder\n",
        "* We access the current directory with os.getcwd()"
      ]
    },
    {
      "cell_type": "code",
      "execution_count": 1,
      "metadata": {
        "id": "wZfF_j-Bz3i4",
        "outputId": "66943449-1436-4c3d-85c7-b85f9f78349b"
      },
      "outputs": [
        {
          "data": {
            "text/plain": [
              "'c:\\\\Users\\\\moby1\\\\Documents\\\\Capstone-Project\\\\Online_Retail_Analysis_Capstone_Project\\\\jupyter_notebooks'"
            ]
          },
          "execution_count": 1,
          "metadata": {},
          "output_type": "execute_result"
        }
      ],
      "source": [
        "import os\n",
        "current_dir = os.getcwd()\n",
        "current_dir"
      ]
    },
    {
      "cell_type": "markdown",
      "metadata": {
        "id": "9MWW8E7lz3i7"
      },
      "source": [
        "We want to make the parent of the current directory the new current directory\n",
        "* os.path.dirname() gets the parent directory\n",
        "* os.chir() defines the new current directory"
      ]
    },
    {
      "cell_type": "code",
      "execution_count": 2,
      "metadata": {
        "id": "TwHsQRWjz3i9",
        "outputId": "86849db3-cd2f-4cc5-ebb8-2d0caafa1a2c"
      },
      "outputs": [
        {
          "name": "stdout",
          "output_type": "stream",
          "text": [
            "You set a new current directory\n"
          ]
        }
      ],
      "source": [
        "os.chdir(os.path.dirname(current_dir))\n",
        "print(\"You set a new current directory\")"
      ]
    },
    {
      "cell_type": "markdown",
      "metadata": {
        "id": "M_xPk_Ijz3i-"
      },
      "source": [
        "Confirm the new current directory"
      ]
    },
    {
      "cell_type": "code",
      "execution_count": 3,
      "metadata": {
        "id": "vz3S-_kjz3jA",
        "outputId": "00b79ae4-75d0-4a96-d193-ac9ef9847ea2"
      },
      "outputs": [
        {
          "data": {
            "text/plain": [
              "'c:\\\\Users\\\\moby1\\\\Documents\\\\Capstone-Project\\\\Online_Retail_Analysis_Capstone_Project'"
            ]
          },
          "execution_count": 3,
          "metadata": {},
          "output_type": "execute_result"
        }
      ],
      "source": [
        "current_dir = os.getcwd()\n",
        "current_dir"
      ]
    },
    {
      "cell_type": "markdown",
      "metadata": {
        "id": "-mavJ8DibrcQ"
      },
      "source": [
        "Import libraries needed for the project"
      ]
    },
    {
      "cell_type": "code",
      "execution_count": 4,
      "metadata": {},
      "outputs": [],
      "source": [
        "import numpy as np\n",
        "import pandas as pd\n",
        "import matplotlib.pyplot as plt\n",
        "import seaborn as sns\n",
        "import plotly.express as px\n",
        "sns.set_style('whitegrid')"
      ]
    },
    {
      "cell_type": "markdown",
      "metadata": {
        "id": "ZY3l0-AxO93d"
      },
      "source": [
        "---"
      ]
    },
    {
      "cell_type": "markdown",
      "metadata": {},
      "source": [
        "It is crucial in any online retail industry to understand:\n",
        "\n",
        "- Types of customers they have\n",
        "- Purchasing habits of customers\n",
        "- Sales and seasonality\n",
        "- Popular products\n",
        "- What can be done in order to improve sales\n",
        "\n",
        "\n",
        "Identifying and understanding the above allows a business strategy of:\n",
        "\n",
        "- Customer segmentation: Knowing customer types helps tailor marketing and services to different needs.\n",
        "- Targeted marketing: Understanding purchasing habits allows for personalised promotions and product recommendations.\n",
        "- Sales forecasting: Tracking sales patterns and seasonality improves inventory planning and resource allocation.\n",
        "- Product optimisation: Identifying popular and underperforming products supports smarter inventory decisions and product development.\n",
        "- Sales growth: Insights from data help shape strategies to boost conversions, customer retention, and overall revenue."
      ]
    },
    {
      "cell_type": "markdown",
      "metadata": {},
      "source": [
        "# Load dataset"
      ]
    },
    {
      "cell_type": "code",
      "execution_count": 13,
      "metadata": {},
      "outputs": [
        {
          "data": {
            "text/html": [
              "<div>\n",
              "<style scoped>\n",
              "    .dataframe tbody tr th:only-of-type {\n",
              "        vertical-align: middle;\n",
              "    }\n",
              "\n",
              "    .dataframe tbody tr th {\n",
              "        vertical-align: top;\n",
              "    }\n",
              "\n",
              "    .dataframe thead th {\n",
              "        text-align: right;\n",
              "    }\n",
              "</style>\n",
              "<table border=\"1\" class=\"dataframe\">\n",
              "  <thead>\n",
              "    <tr style=\"text-align: right;\">\n",
              "      <th></th>\n",
              "      <th>InvoiceNo</th>\n",
              "      <th>StockCode</th>\n",
              "      <th>Description</th>\n",
              "      <th>Quantity</th>\n",
              "      <th>InvoiceDate</th>\n",
              "      <th>UnitPrice</th>\n",
              "      <th>CustomerID</th>\n",
              "      <th>Country</th>\n",
              "      <th>Total_Transaction_Value</th>\n",
              "    </tr>\n",
              "  </thead>\n",
              "  <tbody>\n",
              "    <tr>\n",
              "      <th>0</th>\n",
              "      <td>536365</td>\n",
              "      <td>85123A</td>\n",
              "      <td>WHITE HANGING HEART T-LIGHT HOLDER</td>\n",
              "      <td>6</td>\n",
              "      <td>2010-12-01 08:26:00</td>\n",
              "      <td>2.55</td>\n",
              "      <td>17850</td>\n",
              "      <td>United Kingdom</td>\n",
              "      <td>15.30</td>\n",
              "    </tr>\n",
              "    <tr>\n",
              "      <th>1</th>\n",
              "      <td>536365</td>\n",
              "      <td>71053</td>\n",
              "      <td>WHITE METAL LANTERN</td>\n",
              "      <td>6</td>\n",
              "      <td>2010-12-01 08:26:00</td>\n",
              "      <td>3.39</td>\n",
              "      <td>17850</td>\n",
              "      <td>United Kingdom</td>\n",
              "      <td>20.34</td>\n",
              "    </tr>\n",
              "    <tr>\n",
              "      <th>2</th>\n",
              "      <td>536365</td>\n",
              "      <td>84406B</td>\n",
              "      <td>CREAM CUPID HEARTS COAT HANGER</td>\n",
              "      <td>8</td>\n",
              "      <td>2010-12-01 08:26:00</td>\n",
              "      <td>2.75</td>\n",
              "      <td>17850</td>\n",
              "      <td>United Kingdom</td>\n",
              "      <td>22.00</td>\n",
              "    </tr>\n",
              "    <tr>\n",
              "      <th>3</th>\n",
              "      <td>536365</td>\n",
              "      <td>84029G</td>\n",
              "      <td>KNITTED UNION FLAG HOT WATER BOTTLE</td>\n",
              "      <td>6</td>\n",
              "      <td>2010-12-01 08:26:00</td>\n",
              "      <td>3.39</td>\n",
              "      <td>17850</td>\n",
              "      <td>United Kingdom</td>\n",
              "      <td>20.34</td>\n",
              "    </tr>\n",
              "    <tr>\n",
              "      <th>4</th>\n",
              "      <td>536365</td>\n",
              "      <td>84029E</td>\n",
              "      <td>RED WOOLLY HOTTIE WHITE HEART.</td>\n",
              "      <td>6</td>\n",
              "      <td>2010-12-01 08:26:00</td>\n",
              "      <td>3.39</td>\n",
              "      <td>17850</td>\n",
              "      <td>United Kingdom</td>\n",
              "      <td>20.34</td>\n",
              "    </tr>\n",
              "  </tbody>\n",
              "</table>\n",
              "</div>"
            ],
            "text/plain": [
              "  InvoiceNo StockCode                          Description  Quantity  \\\n",
              "0    536365    85123A   WHITE HANGING HEART T-LIGHT HOLDER         6   \n",
              "1    536365     71053                  WHITE METAL LANTERN         6   \n",
              "2    536365    84406B       CREAM CUPID HEARTS COAT HANGER         8   \n",
              "3    536365    84029G  KNITTED UNION FLAG HOT WATER BOTTLE         6   \n",
              "4    536365    84029E       RED WOOLLY HOTTIE WHITE HEART.         6   \n",
              "\n",
              "           InvoiceDate  UnitPrice  CustomerID         Country  \\\n",
              "0  2010-12-01 08:26:00       2.55       17850  United Kingdom   \n",
              "1  2010-12-01 08:26:00       3.39       17850  United Kingdom   \n",
              "2  2010-12-01 08:26:00       2.75       17850  United Kingdom   \n",
              "3  2010-12-01 08:26:00       3.39       17850  United Kingdom   \n",
              "4  2010-12-01 08:26:00       3.39       17850  United Kingdom   \n",
              "\n",
              "   Total_Transaction_Value  \n",
              "0                    15.30  \n",
              "1                    20.34  \n",
              "2                    22.00  \n",
              "3                    20.34  \n",
              "4                    20.34  "
            ]
          },
          "execution_count": 13,
          "metadata": {},
          "output_type": "execute_result"
        }
      ],
      "source": [
        "#load processed data and display\n",
        "\n",
        "df = pd.read_csv(\"C:\\\\Users\\\\moby1\\\\Documents\\\\Capstone-Project\\\\Online_Retail_Analysis_Capstone_Project\\\\data_set\\\\processed_data\\\\Processed_Online_Retail.csv\") \n",
        "\n",
        "df.head()"
      ]
    },
    {
      "cell_type": "code",
      "execution_count": 20,
      "metadata": {},
      "outputs": [
        {
          "data": {
            "image/png": "[encoded data removed]",
            "text/plain": [
              "<Figure size 800x600 with 1 Axes>"
            ]
          },
          "metadata": {},
          "output_type": "display_data"
        }
      ],
      "source": [
        "#convert date and create month column\n",
        "df['InvoiceDate'] = pd.to_datetime(df['InvoiceDate'])\n",
        "df['Month'] = df['InvoiceDate'].dt.to_period('M').astype(str)\n",
        "\n",
        "#group by month and sum transactions for each month\n",
        "monthly_sales = df.groupby('Month')['Total_Transaction_Value'].sum().reset_index()\n",
        "\n",
        "#create figure and axes\n",
        "plt.figure(figsize=(8, 6))\n",
        "\n",
        "#bar chart plot\n",
        "plt.bar(\n",
        "    monthly_sales['Month'], #x axis\n",
        "    monthly_sales['Total_Transaction_Value'], #y axis\n",
        "    color='skyblue', #colour of bars\n",
        "    label='Monthly Sales (Bar)'\n",
        ")\n",
        "\n",
        "#line chart plot\n",
        "plt.plot(\n",
        "    monthly_sales['Month'], #x axis\n",
        "    monthly_sales['Total_Transaction_Value'], #y axis\n",
        "    color='black', #colour of line\n",
        "    marker='x',\n",
        "    linewidth=2,\n",
        "    label='Sales Trend (Line)'\n",
        ")\n",
        "\n",
        "\n",
        "plt.title('Monthly Trend Analysis') #title of plot\n",
        "plt.xlabel('Month') #label of x axis\n",
        "plt.ylabel('Total Transaction Value £m') #label of y axis\n",
        "plt.xticks(rotation=45) # rotation of label for readability\n",
        "plt.legend()  #add legend for clarity\n",
        "plt.tight_layout() #adjust layout to prevent overlappying content\n",
        "plt.show() #display plot"
      ]
    },
    {
      "cell_type": "markdown",
      "metadata": {},
      "source": [
        "The above chart illustrates the monthly total transaction values from December 2010 through December 2011 (13 months).\n",
        "\n",
        "# Key insights:\n",
        "\n",
        "- Post-holiday dip observed in January 2011, likely due to seasonal slowdown after December (Christmas) shopping.\n",
        "- Flat to modest growth from January to June 2011 (£0.5m to 0.75m), with fluctuations possibly linked to inventory or seasonal cycles.\n",
        "- Significant spike in sales from September to November 2011, peaking in November (£1.5m) likely driven by pre-holiday promotions and shopping events.\n",
        "- Sharp drop in December 2011, possibly due to seasonality habits, stock out issues, operational disruptions (logistics and distribution closures and delays).\n",
        "\n",
        "# Conclusion:\n",
        "\n",
        "The trend analysis shows a steady sales increase throughout 2011, peaking sharply in Q4, especially November. This is likely due to seasonal promotions such as Black Friday and Christmas. This trend indicates strong year-end performance and highlights opportunities for future seasonal marketing and improved inventory planning.\n",
        "\n",
        "# Recommendations and Improvements:\n",
        "\n",
        "- Implement targeted promotions and personalised marketing (loyalty programs) to boost sales during slow months and maintain consistent year-round engagement.\n",
        "- Improve inventory forecasting and streamline logistics to prevent stockouts and operational delays, especially after peak seasons.\n",
        "- Diversify revenue streams to reduce reliance on Q4, exploring new markets, products, and sales channels for more stable growth such as subscription/repeat-purchase models."
      ]
    }
  ],
  "metadata": {
    "accelerator": "GPU",
    "colab": {
      "name": "Data Practitioner Jupyter Notebook.ipynb",
      "provenance": [],
      "toc_visible": true
    },
    "kernelspec": {
      "display_name": ".venv",
      "language": "python",
      "name": "python3"
    },
    "language_info": {
      "codemirror_mode": {
        "name": "ipython",
        "version": 3
      },
      "file_extension": ".py",
      "mimetype": "text/x-python",
      "name": "python",
      "nbconvert_exporter": "python",
      "pygments_lexer": "ipython3",
      "version": "3.12.8"
    },
    "orig_nbformat": 2
  },
  "nbformat": 4,
  "nbformat_minor": 2
}
