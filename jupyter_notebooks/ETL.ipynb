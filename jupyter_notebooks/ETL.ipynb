{
  "cells": [
    {
      "cell_type": "markdown",
      "metadata": {
        "id": "0aStgWSO0E0E"
      },
      "source": [
        "# **Online Retail Analysis - Capstone Project**"
      ]
    },
    {
      "cell_type": "markdown",
      "metadata": {},
      "source": [
        "# Extract, Transform and Load (ETL) and Exploratory Data Analysis"
      ]
    },
    {
      "cell_type": "markdown",
      "metadata": {},
      "source": [
        "ETL is a data integration process used to prepare data for analysis, reporting, and decision making. Using ETL will improve data quality, consistency, and accessibility.\n",
        "\n",
        "EDA is the process of analysing and summarising a dataset before applying any formal modeling or hypothesis testing. It helps to understand the main characteristics of the data such as uncover patterns, spot anomalies, check assumptions, and generate hypotheses.\n",
        "\n",
        "## Objectives \n",
        "\n",
        "- Extract the data from the source (Kaggle).\n",
        "- Transform the data into a clean, consistent and usable dataset.\n",
        "- Load the transformed dataset ready to be used for analysis.\n",
        "- Statistical summary\n",
        "- Probability "
      ]
    },
    {
      "cell_type": "markdown",
      "metadata": {},
      "source": [
        "# Online Retail Dataset"
      ]
    },
    {
      "cell_type": "markdown",
      "metadata": {},
      "source": [
        "## Inputs"
      ]
    },
    {
      "cell_type": "markdown",
      "metadata": {},
      "source": [
        "Online Retail Dataset can be found [HERE]( https://www.kaggle.com/datasets/abhishekrp1517/online-retail-transactions-dataset)"
      ]
    },
    {
      "cell_type": "markdown",
      "metadata": {},
      "source": [
        "The online retail dataset contains transactional data of 13 months, including product details, quantities, prices, purchase timestamps, customer IDs, and country information. It can be used to analyse customer behaviour, identify popular products, and support pricing and marketing strategies. It's suitable for data analysis and machine learning. "
      ]
    },
    {
      "cell_type": "markdown",
      "metadata": {},
      "source": [
        "Column Descriptors:\n",
        "\n",
        "- StockCode: A code used to identify the product that was purchased\n",
        "- Description: A brief description of the product that was purchased\n",
        "- Quantity: The quantity of the product that was purchased\n",
        "- InvoiceDate: The date and time that the purchase was made\n",
        "- UnitPrice: The price of one unit of the product that was purchased\n",
        "- CustomerID: The unique identifier for the customer who made the purchase\n",
        "- Country: The country where the customer who made the purchase is located"
      ]
    },
    {
      "cell_type": "markdown",
      "metadata": {
        "id": "1eLEkw5O0ECa"
      },
      "source": [
        "## Outputs\n",
        "\n",
        "- Clean dataset stored in the processed_data folder, ready to be used for analysis.\n",
        "- Statistical summary\n",
        "- Probability test\n"
      ]
    },
    {
      "cell_type": "markdown",
      "metadata": {
        "id": "9uWZXH9LwoQg"
      },
      "source": [
        "---"
      ]
    },
    {
      "cell_type": "markdown",
      "metadata": {
        "id": "cqP-UeN-z3i2"
      },
      "source": [
        "# Change working directory"
      ]
    },
    {
      "cell_type": "markdown",
      "metadata": {},
      "source": [
        "* We are assuming you will store the notebooks in a subfolder, therefore when running the notebook in the editor, you will need to change the working directory"
      ]
    },
    {
      "cell_type": "markdown",
      "metadata": {
        "id": "aOGIGS-uz3i2"
      },
      "source": [
        "We need to change the working directory from its current folder to its parent folder\n",
        "* We access the current directory with os.getcwd()"
      ]
    },
    {
      "cell_type": "code",
      "execution_count": 1,
      "metadata": {
        "id": "wZfF_j-Bz3i4",
        "outputId": "66943449-1436-4c3d-85c7-b85f9f78349b"
      },
      "outputs": [
        {
          "data": {
            "text/plain": [
              "'c:\\\\Users\\\\moby1\\\\Documents\\\\Capstone-Project\\\\Online_Retail_Analysis_Capstone_Project\\\\jupyter_notebooks'"
            ]
          },
          "execution_count": 1,
          "metadata": {},
          "output_type": "execute_result"
        }
      ],
      "source": [
        "import os\n",
        "current_dir = os.getcwd()\n",
        "current_dir"
      ]
    },
    {
      "cell_type": "markdown",
      "metadata": {
        "id": "9MWW8E7lz3i7"
      },
      "source": [
        "We want to make the parent of the current directory the new current directory\n",
        "* os.path.dirname() gets the parent directory\n",
        "* os.chir() defines the new current directory"
      ]
    },
    {
      "cell_type": "code",
      "execution_count": 2,
      "metadata": {
        "id": "TwHsQRWjz3i9",
        "outputId": "86849db3-cd2f-4cc5-ebb8-2d0caafa1a2c"
      },
      "outputs": [
        {
          "name": "stdout",
          "output_type": "stream",
          "text": [
            "You set a new current directory\n"
          ]
        }
      ],
      "source": [
        "os.chdir(os.path.dirname(current_dir))\n",
        "print(\"You set a new current directory\")"
      ]
    },
    {
      "cell_type": "markdown",
      "metadata": {
        "id": "M_xPk_Ijz3i-"
      },
      "source": [
        "Confirm the new current directory"
      ]
    },
    {
      "cell_type": "code",
      "execution_count": 3,
      "metadata": {
        "id": "vz3S-_kjz3jA",
        "outputId": "00b79ae4-75d0-4a96-d193-ac9ef9847ea2"
      },
      "outputs": [
        {
          "data": {
            "text/plain": [
              "'c:\\\\Users\\\\moby1\\\\Documents\\\\Capstone-Project\\\\Online_Retail_Analysis_Capstone_Project'"
            ]
          },
          "execution_count": 3,
          "metadata": {},
          "output_type": "execute_result"
        }
      ],
      "source": [
        "current_dir = os.getcwd()\n",
        "current_dir"
      ]
    },
    {
      "cell_type": "markdown",
      "metadata": {},
      "source": [
        "# **Ethical, Legal and Social Implications of Data Handling**\n"
      ]
    },
    {
      "cell_type": "markdown",
      "metadata": {},
      "source": [
        "**Ethical Implications:**\n",
        "Online retail businesses must handle customer data responsibly by protecting privacy, ensuring transparency, and avoiding bias. Informed consent and clear communication about data usage are essential to maintain trust and accountability.\n",
        "\n",
        "**Legal Implications:**\n",
        "Data practices must comply with regulations like GDPR and CCPA, requiring consent, secure storage, and user access to data. Non-compliance can lead to legal penalties and damage to reputation, making legal adherence vital for data governance.\n",
        "\n",
        "**Social Implications:**\n",
        "Data use can impact society through issues like digital exclusion, loss of consumer autonomy, and reduced trust. Over targeting or favoring high value customers may create inequality, while automation can affect jobs, highlighting the need for ethical tech use."
      ]
    },
    {
      "cell_type": "markdown",
      "metadata": {
        "id": "-mavJ8DibrcQ"
      },
      "source": [
        "# Load Raw Dataset"
      ]
    },
    {
      "cell_type": "markdown",
      "metadata": {},
      "source": [
        "Import libraries."
      ]
    },
    {
      "cell_type": "code",
      "execution_count": 54,
      "metadata": {},
      "outputs": [],
      "source": [
        "import numpy as np\n",
        "import pandas as pd\n",
        "import matplotlib.pyplot as plt\n",
        "import seaborn as sns\n",
        "import plotly.express as px\n",
        "from scipy.stats import ttest_1samp\n",
        "sns.set_style('whitegrid')"
      ]
    },
    {
      "cell_type": "markdown",
      "metadata": {},
      "source": [
        "Load raw dataset."
      ]
    },
    {
      "cell_type": "code",
      "execution_count": 46,
      "metadata": {},
      "outputs": [
        {
          "data": {
            "text/html": [
              "<div>\n",
              "<style scoped>\n",
              "    .dataframe tbody tr th:only-of-type {\n",
              "        vertical-align: middle;\n",
              "    }\n",
              "\n",
              "    .dataframe tbody tr th {\n",
              "        vertical-align: top;\n",
              "    }\n",
              "\n",
              "    .dataframe thead th {\n",
              "        text-align: right;\n",
              "    }\n",
              "</style>\n",
              "<table border=\"1\" class=\"dataframe\">\n",
              "  <thead>\n",
              "    <tr style=\"text-align: right;\">\n",
              "      <th></th>\n",
              "      <th>InvoiceNo</th>\n",
              "      <th>StockCode</th>\n",
              "      <th>Description</th>\n",
              "      <th>Quantity</th>\n",
              "      <th>InvoiceDate</th>\n",
              "      <th>UnitPrice</th>\n",
              "      <th>CustomerID</th>\n",
              "      <th>Country</th>\n",
              "    </tr>\n",
              "  </thead>\n",
              "  <tbody>\n",
              "    <tr>\n",
              "      <th>0</th>\n",
              "      <td>536365</td>\n",
              "      <td>85123A</td>\n",
              "      <td>WHITE HANGING HEART T-LIGHT HOLDER</td>\n",
              "      <td>6</td>\n",
              "      <td>2010-12-01 08:26:00</td>\n",
              "      <td>2.55</td>\n",
              "      <td>17850</td>\n",
              "      <td>United Kingdom</td>\n",
              "    </tr>\n",
              "    <tr>\n",
              "      <th>1</th>\n",
              "      <td>536365</td>\n",
              "      <td>71053</td>\n",
              "      <td>WHITE METAL LANTERN</td>\n",
              "      <td>6</td>\n",
              "      <td>2010-12-01 08:26:00</td>\n",
              "      <td>3.39</td>\n",
              "      <td>17850</td>\n",
              "      <td>United Kingdom</td>\n",
              "    </tr>\n",
              "    <tr>\n",
              "      <th>2</th>\n",
              "      <td>536365</td>\n",
              "      <td>84406B</td>\n",
              "      <td>CREAM CUPID HEARTS COAT HANGER</td>\n",
              "      <td>8</td>\n",
              "      <td>2010-12-01 08:26:00</td>\n",
              "      <td>2.75</td>\n",
              "      <td>17850</td>\n",
              "      <td>United Kingdom</td>\n",
              "    </tr>\n",
              "    <tr>\n",
              "      <th>3</th>\n",
              "      <td>536365</td>\n",
              "      <td>84029G</td>\n",
              "      <td>KNITTED UNION FLAG HOT WATER BOTTLE</td>\n",
              "      <td>6</td>\n",
              "      <td>2010-12-01 08:26:00</td>\n",
              "      <td>3.39</td>\n",
              "      <td>17850</td>\n",
              "      <td>United Kingdom</td>\n",
              "    </tr>\n",
              "    <tr>\n",
              "      <th>4</th>\n",
              "      <td>536365</td>\n",
              "      <td>84029E</td>\n",
              "      <td>RED WOOLLY HOTTIE WHITE HEART.</td>\n",
              "      <td>6</td>\n",
              "      <td>2010-12-01 08:26:00</td>\n",
              "      <td>3.39</td>\n",
              "      <td>17850</td>\n",
              "      <td>United Kingdom</td>\n",
              "    </tr>\n",
              "  </tbody>\n",
              "</table>\n",
              "</div>"
            ],
            "text/plain": [
              "  InvoiceNo StockCode                          Description  Quantity  \\\n",
              "0    536365    85123A   WHITE HANGING HEART T-LIGHT HOLDER         6   \n",
              "1    536365     71053                  WHITE METAL LANTERN         6   \n",
              "2    536365    84406B       CREAM CUPID HEARTS COAT HANGER         8   \n",
              "3    536365    84029G  KNITTED UNION FLAG HOT WATER BOTTLE         6   \n",
              "4    536365    84029E       RED WOOLLY HOTTIE WHITE HEART.         6   \n",
              "\n",
              "           InvoiceDate  UnitPrice  CustomerID         Country  \n",
              "0  2010-12-01 08:26:00       2.55       17850  United Kingdom  \n",
              "1  2010-12-01 08:26:00       3.39       17850  United Kingdom  \n",
              "2  2010-12-01 08:26:00       2.75       17850  United Kingdom  \n",
              "3  2010-12-01 08:26:00       3.39       17850  United Kingdom  \n",
              "4  2010-12-01 08:26:00       3.39       17850  United Kingdom  "
            ]
          },
          "execution_count": 46,
          "metadata": {},
          "output_type": "execute_result"
        }
      ],
      "source": [
        "import pandas as pd\n",
        "\n",
        "df = pd.read_csv(\"C:\\\\Users\\\\moby1\\\\Documents\\\\Capstone-Project\\\\Online_Retail_Analysis_Capstone_Project\\\\data_set\\\\raw_data\\\\Online_Retail.csv\")\n",
        "\n",
        "df.head()"
      ]
    },
    {
      "cell_type": "markdown",
      "metadata": {},
      "source": [
        "# Cleaning Process"
      ]
    },
    {
      "cell_type": "markdown",
      "metadata": {},
      "source": [
        "Identifying duplicate data."
      ]
    },
    {
      "cell_type": "code",
      "execution_count": 10,
      "metadata": {},
      "outputs": [
        {
          "data": {
            "text/plain": [
              "5268"
            ]
          },
          "execution_count": 10,
          "metadata": {},
          "output_type": "execute_result"
        }
      ],
      "source": [
        "df.duplicated().sum() #check for duplicates"
      ]
    },
    {
      "cell_type": "markdown",
      "metadata": {},
      "source": [
        "We can see above 5268 duplicates exist in the dataset. I am going to remove these from the dataset. This will improve data quality, accuracy and reliability. "
      ]
    },
    {
      "cell_type": "code",
      "execution_count": 11,
      "metadata": {},
      "outputs": [
        {
          "data": {
            "text/html": [
              "<div>\n",
              "<style scoped>\n",
              "    .dataframe tbody tr th:only-of-type {\n",
              "        vertical-align: middle;\n",
              "    }\n",
              "\n",
              "    .dataframe tbody tr th {\n",
              "        vertical-align: top;\n",
              "    }\n",
              "\n",
              "    .dataframe thead th {\n",
              "        text-align: right;\n",
              "    }\n",
              "</style>\n",
              "<table border=\"1\" class=\"dataframe\">\n",
              "  <thead>\n",
              "    <tr style=\"text-align: right;\">\n",
              "      <th></th>\n",
              "      <th>InvoiceNo</th>\n",
              "      <th>StockCode</th>\n",
              "      <th>Description</th>\n",
              "      <th>Quantity</th>\n",
              "      <th>InvoiceDate</th>\n",
              "      <th>UnitPrice</th>\n",
              "      <th>CustomerID</th>\n",
              "      <th>Country</th>\n",
              "    </tr>\n",
              "  </thead>\n",
              "  <tbody>\n",
              "    <tr>\n",
              "      <th>0</th>\n",
              "      <td>536365</td>\n",
              "      <td>85123A</td>\n",
              "      <td>WHITE HANGING HEART T-LIGHT HOLDER</td>\n",
              "      <td>6</td>\n",
              "      <td>2010-12-01 08:26:00</td>\n",
              "      <td>2.55</td>\n",
              "      <td>17850</td>\n",
              "      <td>United Kingdom</td>\n",
              "    </tr>\n",
              "    <tr>\n",
              "      <th>1</th>\n",
              "      <td>536365</td>\n",
              "      <td>71053</td>\n",
              "      <td>WHITE METAL LANTERN</td>\n",
              "      <td>6</td>\n",
              "      <td>2010-12-01 08:26:00</td>\n",
              "      <td>3.39</td>\n",
              "      <td>17850</td>\n",
              "      <td>United Kingdom</td>\n",
              "    </tr>\n",
              "    <tr>\n",
              "      <th>2</th>\n",
              "      <td>536365</td>\n",
              "      <td>84406B</td>\n",
              "      <td>CREAM CUPID HEARTS COAT HANGER</td>\n",
              "      <td>8</td>\n",
              "      <td>2010-12-01 08:26:00</td>\n",
              "      <td>2.75</td>\n",
              "      <td>17850</td>\n",
              "      <td>United Kingdom</td>\n",
              "    </tr>\n",
              "    <tr>\n",
              "      <th>3</th>\n",
              "      <td>536365</td>\n",
              "      <td>84029G</td>\n",
              "      <td>KNITTED UNION FLAG HOT WATER BOTTLE</td>\n",
              "      <td>6</td>\n",
              "      <td>2010-12-01 08:26:00</td>\n",
              "      <td>3.39</td>\n",
              "      <td>17850</td>\n",
              "      <td>United Kingdom</td>\n",
              "    </tr>\n",
              "    <tr>\n",
              "      <th>4</th>\n",
              "      <td>536365</td>\n",
              "      <td>84029E</td>\n",
              "      <td>RED WOOLLY HOTTIE WHITE HEART.</td>\n",
              "      <td>6</td>\n",
              "      <td>2010-12-01 08:26:00</td>\n",
              "      <td>3.39</td>\n",
              "      <td>17850</td>\n",
              "      <td>United Kingdom</td>\n",
              "    </tr>\n",
              "  </tbody>\n",
              "</table>\n",
              "</div>"
            ],
            "text/plain": [
              "  InvoiceNo StockCode                          Description  Quantity  \\\n",
              "0    536365    85123A   WHITE HANGING HEART T-LIGHT HOLDER         6   \n",
              "1    536365     71053                  WHITE METAL LANTERN         6   \n",
              "2    536365    84406B       CREAM CUPID HEARTS COAT HANGER         8   \n",
              "3    536365    84029G  KNITTED UNION FLAG HOT WATER BOTTLE         6   \n",
              "4    536365    84029E       RED WOOLLY HOTTIE WHITE HEART.         6   \n",
              "\n",
              "           InvoiceDate  UnitPrice  CustomerID         Country  \n",
              "0  2010-12-01 08:26:00       2.55       17850  United Kingdom  \n",
              "1  2010-12-01 08:26:00       3.39       17850  United Kingdom  \n",
              "2  2010-12-01 08:26:00       2.75       17850  United Kingdom  \n",
              "3  2010-12-01 08:26:00       3.39       17850  United Kingdom  \n",
              "4  2010-12-01 08:26:00       3.39       17850  United Kingdom  "
            ]
          },
          "execution_count": 11,
          "metadata": {},
          "output_type": "execute_result"
        }
      ],
      "source": [
        "processed_data = df.drop_duplicates() #remove duplicates from the dataset\n",
        "\n",
        "processed_data.head() #display dataset"
      ]
    },
    {
      "cell_type": "markdown",
      "metadata": {},
      "source": [
        "Convert datatypes in to appropriate types."
      ]
    },
    {
      "cell_type": "code",
      "execution_count": 18,
      "metadata": {},
      "outputs": [
        {
          "data": {
            "text/plain": [
              "InvoiceNo                  string[python]\n",
              "StockCode                  string[python]\n",
              "Description                string[python]\n",
              "Quantity                            int64\n",
              "InvoiceDate                datetime64[ns]\n",
              "UnitPrice                         float64\n",
              "CustomerID                 string[python]\n",
              "Country                    string[python]\n",
              "Total_Transaction_Value           float64\n",
              "dtype: object"
            ]
          },
          "execution_count": 18,
          "metadata": {},
          "output_type": "execute_result"
        }
      ],
      "source": [
        "processed_data = processed_data.copy() #create a copy of the dataset\n",
        "\n",
        "#change datatypes\n",
        "processed_data['Description'] = processed_data['Description'].astype('string') \n",
        "processed_data['InvoiceNo'] = processed_data['InvoiceNo'].astype('string')\n",
        "processed_data['StockCode'] = processed_data['StockCode'].astype('string')\n",
        "processed_data['InvoiceDate']= pd.to_datetime(processed_data['InvoiceDate']) #convert to datetime for time series analysis\n",
        "processed_data['CustomerID'] = processed_data['CustomerID'].astype('string')\n",
        "processed_data['Country'] = processed_data['Country'].astype('string')\n",
        "\n",
        "#print the data types to verify changes\n",
        "processed_data.dtypes"
      ]
    },
    {
      "cell_type": "markdown",
      "metadata": {},
      "source": [
        "Identifying missing values."
      ]
    },
    {
      "cell_type": "markdown",
      "metadata": {},
      "source": [
        "Displayed below is an overview of the dataset displaying the size of the dataset, list of columns, if and how many missing values within the dataset."
      ]
    },
    {
      "cell_type": "code",
      "execution_count": 13,
      "metadata": {},
      "outputs": [
        {
          "data": {
            "text/plain": [
              "{'Shape': (536641, 8),\n",
              " 'Columns': ['InvoiceNo',\n",
              "  'StockCode',\n",
              "  'Description',\n",
              "  'Quantity',\n",
              "  'InvoiceDate',\n",
              "  'UnitPrice',\n",
              "  'CustomerID',\n",
              "  'Country'],\n",
              " 'Missing Values': {'InvoiceNo': 0,\n",
              "  'StockCode': 0,\n",
              "  'Description': 1454,\n",
              "  'Quantity': 0,\n",
              "  'InvoiceDate': 0,\n",
              "  'UnitPrice': 0,\n",
              "  'CustomerID': 0,\n",
              "  'Country': 0},\n",
              " 'Sample Data': {'InvoiceNo': {0: '536365',\n",
              "   1: '536365',\n",
              "   2: '536365',\n",
              "   3: '536365',\n",
              "   4: '536365',\n",
              "   5: '536365',\n",
              "   6: '536365',\n",
              "   7: '536366'},\n",
              "  'StockCode': {0: '85123A',\n",
              "   1: '71053',\n",
              "   2: '84406B',\n",
              "   3: '84029G',\n",
              "   4: '84029E',\n",
              "   5: '22752',\n",
              "   6: '21730',\n",
              "   7: '22633'},\n",
              "  'Description': {0: 'WHITE HANGING HEART T-LIGHT HOLDER',\n",
              "   1: 'WHITE METAL LANTERN',\n",
              "   2: 'CREAM CUPID HEARTS COAT HANGER',\n",
              "   3: 'KNITTED UNION FLAG HOT WATER BOTTLE',\n",
              "   4: 'RED WOOLLY HOTTIE WHITE HEART.',\n",
              "   5: 'SET 7 BABUSHKA NESTING BOXES',\n",
              "   6: 'GLASS STAR FROSTED T-LIGHT HOLDER',\n",
              "   7: 'HAND WARMER UNION JACK'},\n",
              "  'Quantity': {0: 6, 1: 6, 2: 8, 3: 6, 4: 6, 5: 2, 6: 6, 7: 6},\n",
              "  'InvoiceDate': {0: '2010-12-01 08:26:00',\n",
              "   1: '2010-12-01 08:26:00',\n",
              "   2: '2010-12-01 08:26:00',\n",
              "   3: '2010-12-01 08:26:00',\n",
              "   4: '2010-12-01 08:26:00',\n",
              "   5: '2010-12-01 08:26:00',\n",
              "   6: '2010-12-01 08:26:00',\n",
              "   7: '2010-12-01 08:28:00'},\n",
              "  'UnitPrice': {0: 2.55,\n",
              "   1: 3.39,\n",
              "   2: 2.75,\n",
              "   3: 3.39,\n",
              "   4: 3.39,\n",
              "   5: 7.65,\n",
              "   6: 4.25,\n",
              "   7: 1.85},\n",
              "  'CustomerID': {0: 17850,\n",
              "   1: 17850,\n",
              "   2: 17850,\n",
              "   3: 17850,\n",
              "   4: 17850,\n",
              "   5: 17850,\n",
              "   6: 17850,\n",
              "   7: 17850},\n",
              "  'Country': {0: 'United Kingdom',\n",
              "   1: 'United Kingdom',\n",
              "   2: 'United Kingdom',\n",
              "   3: 'United Kingdom',\n",
              "   4: 'United Kingdom',\n",
              "   5: 'United Kingdom',\n",
              "   6: 'United Kingdom',\n",
              "   7: 'United Kingdom'}}}"
            ]
          },
          "execution_count": 13,
          "metadata": {},
          "output_type": "execute_result"
        }
      ],
      "source": [
        "df_info = {\n",
        "    \"Shape\": processed_data.shape, #size of dataset\n",
        "    \"Columns\": processed_data.columns.tolist(), #list of column names\n",
        "    \"Missing Values\": processed_data.isnull().sum().to_dict(), #identify missing values in each column\n",
        "    \"Sample Data\": processed_data.head(8).to_dict() #sample data of 8 rows\n",
        "}\n",
        "\n",
        "df_info"
      ]
    },
    {
      "cell_type": "markdown",
      "metadata": {},
      "source": [
        "Above we can see that the description column contains missing values. I will remove these from the dataset."
      ]
    },
    {
      "cell_type": "code",
      "execution_count": 14,
      "metadata": {},
      "outputs": [
        {
          "data": {
            "text/plain": [
              "InvoiceNo      0\n",
              "StockCode      0\n",
              "Description    0\n",
              "Quantity       0\n",
              "InvoiceDate    0\n",
              "UnitPrice      0\n",
              "CustomerID     0\n",
              "Country        0\n",
              "dtype: int64"
            ]
          },
          "execution_count": 14,
          "metadata": {},
          "output_type": "execute_result"
        }
      ],
      "source": [
        "processed_data = processed_data.dropna(subset=['Description']) #drop rows with missing values indescription column\n",
        "\n",
        "processed_data.isnull().sum() #missing values"
      ]
    },
    {
      "cell_type": "markdown",
      "metadata": {},
      "source": [
        "Add new column \"total transaction value\" to the dataset to get the overall spend."
      ]
    },
    {
      "cell_type": "code",
      "execution_count": 47,
      "metadata": {},
      "outputs": [
        {
          "data": {
            "text/html": [
              "<div>\n",
              "<style scoped>\n",
              "    .dataframe tbody tr th:only-of-type {\n",
              "        vertical-align: middle;\n",
              "    }\n",
              "\n",
              "    .dataframe tbody tr th {\n",
              "        vertical-align: top;\n",
              "    }\n",
              "\n",
              "    .dataframe thead th {\n",
              "        text-align: right;\n",
              "    }\n",
              "</style>\n",
              "<table border=\"1\" class=\"dataframe\">\n",
              "  <thead>\n",
              "    <tr style=\"text-align: right;\">\n",
              "      <th></th>\n",
              "      <th>InvoiceNo</th>\n",
              "      <th>StockCode</th>\n",
              "      <th>Description</th>\n",
              "      <th>Quantity</th>\n",
              "      <th>InvoiceDate</th>\n",
              "      <th>UnitPrice</th>\n",
              "      <th>CustomerID</th>\n",
              "      <th>Country</th>\n",
              "      <th>Total_Transaction_Value</th>\n",
              "    </tr>\n",
              "  </thead>\n",
              "  <tbody>\n",
              "    <tr>\n",
              "      <th>0</th>\n",
              "      <td>536365</td>\n",
              "      <td>85123A</td>\n",
              "      <td>WHITE HANGING HEART T-LIGHT HOLDER</td>\n",
              "      <td>6</td>\n",
              "      <td>2010-12-01 08:26:00</td>\n",
              "      <td>2.55</td>\n",
              "      <td>17850</td>\n",
              "      <td>United Kingdom</td>\n",
              "      <td>15.30</td>\n",
              "    </tr>\n",
              "    <tr>\n",
              "      <th>1</th>\n",
              "      <td>536365</td>\n",
              "      <td>71053</td>\n",
              "      <td>WHITE METAL LANTERN</td>\n",
              "      <td>6</td>\n",
              "      <td>2010-12-01 08:26:00</td>\n",
              "      <td>3.39</td>\n",
              "      <td>17850</td>\n",
              "      <td>United Kingdom</td>\n",
              "      <td>20.34</td>\n",
              "    </tr>\n",
              "    <tr>\n",
              "      <th>2</th>\n",
              "      <td>536365</td>\n",
              "      <td>84406B</td>\n",
              "      <td>CREAM CUPID HEARTS COAT HANGER</td>\n",
              "      <td>8</td>\n",
              "      <td>2010-12-01 08:26:00</td>\n",
              "      <td>2.75</td>\n",
              "      <td>17850</td>\n",
              "      <td>United Kingdom</td>\n",
              "      <td>22.00</td>\n",
              "    </tr>\n",
              "    <tr>\n",
              "      <th>3</th>\n",
              "      <td>536365</td>\n",
              "      <td>84029G</td>\n",
              "      <td>KNITTED UNION FLAG HOT WATER BOTTLE</td>\n",
              "      <td>6</td>\n",
              "      <td>2010-12-01 08:26:00</td>\n",
              "      <td>3.39</td>\n",
              "      <td>17850</td>\n",
              "      <td>United Kingdom</td>\n",
              "      <td>20.34</td>\n",
              "    </tr>\n",
              "    <tr>\n",
              "      <th>4</th>\n",
              "      <td>536365</td>\n",
              "      <td>84029E</td>\n",
              "      <td>RED WOOLLY HOTTIE WHITE HEART.</td>\n",
              "      <td>6</td>\n",
              "      <td>2010-12-01 08:26:00</td>\n",
              "      <td>3.39</td>\n",
              "      <td>17850</td>\n",
              "      <td>United Kingdom</td>\n",
              "      <td>20.34</td>\n",
              "    </tr>\n",
              "  </tbody>\n",
              "</table>\n",
              "</div>"
            ],
            "text/plain": [
              "  InvoiceNo StockCode                          Description  Quantity  \\\n",
              "0    536365    85123A   WHITE HANGING HEART T-LIGHT HOLDER         6   \n",
              "1    536365     71053                  WHITE METAL LANTERN         6   \n",
              "2    536365    84406B       CREAM CUPID HEARTS COAT HANGER         8   \n",
              "3    536365    84029G  KNITTED UNION FLAG HOT WATER BOTTLE         6   \n",
              "4    536365    84029E       RED WOOLLY HOTTIE WHITE HEART.         6   \n",
              "\n",
              "          InvoiceDate  UnitPrice CustomerID         Country  \\\n",
              "0 2010-12-01 08:26:00       2.55      17850  United Kingdom   \n",
              "1 2010-12-01 08:26:00       3.39      17850  United Kingdom   \n",
              "2 2010-12-01 08:26:00       2.75      17850  United Kingdom   \n",
              "3 2010-12-01 08:26:00       3.39      17850  United Kingdom   \n",
              "4 2010-12-01 08:26:00       3.39      17850  United Kingdom   \n",
              "\n",
              "   Total_Transaction_Value  \n",
              "0                    15.30  \n",
              "1                    20.34  \n",
              "2                    22.00  \n",
              "3                    20.34  \n",
              "4                    20.34  "
            ]
          },
          "execution_count": 47,
          "metadata": {},
          "output_type": "execute_result"
        }
      ],
      "source": [
        "processed_data['Total_Transaction_Value'] = processed_data['Quantity'] * processed_data['UnitPrice'] #add new column total transaction value\n",
        "processed_data.head()"
      ]
    },
    {
      "cell_type": "markdown",
      "metadata": {},
      "source": [
        "When initially looking at the dataset in Microsoft Excel, i noticed values within the description column which are not product descriptions but hold no unit price or have negative quantity. for example: check, ?, Manual, faulty, POSTAGE and some others. I have identified a pattern with these types of descriptions, which seems to be lowercase characters or special characters. There seems to be a large existance of them, therefore i will remove these from the dataset by identifying product descriptions which contain lowercase of special characters."
      ]
    },
    {
      "cell_type": "code",
      "execution_count": 19,
      "metadata": {},
      "outputs": [
        {
          "name": "stdout",
          "output_type": "stream",
          "text": [
            "<class 'pandas.core.frame.DataFrame'>\n",
            "Index: 535187 entries, 0 to 541908\n",
            "Data columns (total 9 columns):\n",
            " #   Column                   Non-Null Count   Dtype         \n",
            "---  ------                   --------------   -----         \n",
            " 0   InvoiceNo                535187 non-null  string        \n",
            " 1   StockCode                535187 non-null  string        \n",
            " 2   Description              535187 non-null  string        \n",
            " 3   Quantity                 535187 non-null  int64         \n",
            " 4   InvoiceDate              535187 non-null  datetime64[ns]\n",
            " 5   UnitPrice                535187 non-null  float64       \n",
            " 6   CustomerID               535187 non-null  string        \n",
            " 7   Country                  535187 non-null  string        \n",
            " 8   Total_Transaction_Value  535187 non-null  float64       \n",
            "dtypes: datetime64[ns](1), float64(2), int64(1), string(5)\n",
            "memory usage: 40.8 MB\n"
          ]
        }
      ],
      "source": [
        "processed_data.info() #summary of data"
      ]
    },
    {
      "cell_type": "markdown",
      "metadata": {},
      "source": [
        "Identify and remove descriptions which contain special characters such as \"?\"."
      ]
    },
    {
      "cell_type": "code",
      "execution_count": 20,
      "metadata": {},
      "outputs": [
        {
          "name": "stdout",
          "output_type": "stream",
          "text": [
            "<class 'pandas.core.frame.DataFrame'>\n",
            "Index: 535105 entries, 0 to 541908\n",
            "Data columns (total 9 columns):\n",
            " #   Column                   Non-Null Count   Dtype         \n",
            "---  ------                   --------------   -----         \n",
            " 0   InvoiceNo                535105 non-null  string        \n",
            " 1   StockCode                535105 non-null  string        \n",
            " 2   Description              535105 non-null  string        \n",
            " 3   Quantity                 535105 non-null  int64         \n",
            " 4   InvoiceDate              535105 non-null  datetime64[ns]\n",
            " 5   UnitPrice                535105 non-null  float64       \n",
            " 6   CustomerID               535105 non-null  string        \n",
            " 7   Country                  535105 non-null  string        \n",
            " 8   Total_Transaction_Value  535105 non-null  float64       \n",
            "dtypes: datetime64[ns](1), float64(2), int64(1), string(5)\n",
            "memory usage: 40.8 MB\n"
          ]
        }
      ],
      "source": [
        "#remove rows with '?' in the description column\n",
        "processed_data = processed_data[~processed_data['Description'].str.contains(r'\\?', na=False)]\n",
        "\n",
        "processed_data.info()"
      ]
    },
    {
      "cell_type": "markdown",
      "metadata": {},
      "source": [
        "\n",
        "Identify and remove descriptions which contain lowercase chracaters."
      ]
    },
    {
      "cell_type": "code",
      "execution_count": null,
      "metadata": {},
      "outputs": [],
      "source": [
        "#remove rows with lowercase letters in the description column\n",
        "processed_data = processed_data[~processed_data['Description'].str.contains(r'[a-z]', na=False)]\n",
        "\n",
        "processed_data.info()"
      ]
    },
    {
      "cell_type": "markdown",
      "metadata": {},
      "source": [
        "Descriptive statistics. This summary shows the total sales, average transaction value, number of unique customers, popular products being sold and popular countries."
      ]
    },
    {
      "cell_type": "code",
      "execution_count": 21,
      "metadata": {},
      "outputs": [
        {
          "data": {
            "text/plain": [
              "{'Total Sales': 9726006.953999998,\n",
              " 'Average Transaction Value': 18.175885020696867,\n",
              " 'Number of Unique Customers': 4372,\n",
              " 'Top 8 Products': {'WORLD WAR 2 GLIDERS ASSTD DESIGNS': 53751,\n",
              "  'JUMBO BAG RED RETROSPOT': 47260,\n",
              "  'POPCORN HOLDER': 36322,\n",
              "  'ASSORTED COLOUR BIRD ORNAMENT': 36282,\n",
              "  'PACK OF 72 RETROSPOT CAKE CASES': 36016,\n",
              "  'WHITE HANGING HEART T-LIGHT HOLDER': 35298,\n",
              "  'RABBIT NIGHT LIGHT': 30631,\n",
              "  'MINI PAINT SET VINTAGE ': 26437},\n",
              " 'Top 5 Countries': {'United Kingdom': 4279101,\n",
              "  'Netherlands': 200128,\n",
              "  'EIRE': 142495,\n",
              "  'Germany': 117341,\n",
              "  'France': 110438}}"
            ]
          },
          "execution_count": 21,
          "metadata": {},
          "output_type": "execute_result"
        }
      ],
      "source": [
        "total_sales = processed_data['Total_Transaction_Value'].sum() #sum of sales\n",
        "\n",
        "average_transaction_value = processed_data['Total_Transaction_Value'].mean() #average trasnaction value\n",
        "\n",
        "no_unique_customers = processed_data['CustomerID'].nunique() #unique customers\n",
        "\n",
        "popular_products = processed_data.groupby('Description')['Quantity'].sum().sort_values(ascending=False).head(8) #popular products\n",
        "\n",
        "popular_country = processed_data.groupby('Country')['Quantity'].sum().sort_values(ascending=False).head(5) #popular countries\n",
        "\n",
        "#display statistic summary\n",
        "stats_summary = {\n",
        "    \"Total Sales\": total_sales,\n",
        "    \"Average Transaction Value\": average_transaction_value,\n",
        "    \"Number of Unique Customers\": no_unique_customers,\n",
        "    \"Top 8 Products\" : popular_products.to_dict(),\n",
        "    \"Top 5 Countries\" : popular_country.to_dict()\n",
        "\n",
        "}\n",
        "stats_summary"
      ]
    },
    {
      "cell_type": "markdown",
      "metadata": {},
      "source": [
        "# Save and Load Processed Dataset"
      ]
    },
    {
      "cell_type": "code",
      "execution_count": null,
      "metadata": {},
      "outputs": [],
      "source": [
        "#save processed data and store in processed_data folder\n",
        "\n",
        "processed_data.to_csv(\"C:\\\\Users\\\\moby1\\\\Documents\\\\Capstone-Project\\\\Online_Retail_Analysis_Capstone_Project\\\\data_set\\\\processed_data\\\\Processed_Online_Retail.csv\", index=False) "
      ]
    },
    {
      "cell_type": "code",
      "execution_count": 31,
      "metadata": {},
      "outputs": [
        {
          "data": {
            "text/html": [
              "<div>\n",
              "<style scoped>\n",
              "    .dataframe tbody tr th:only-of-type {\n",
              "        vertical-align: middle;\n",
              "    }\n",
              "\n",
              "    .dataframe tbody tr th {\n",
              "        vertical-align: top;\n",
              "    }\n",
              "\n",
              "    .dataframe thead th {\n",
              "        text-align: right;\n",
              "    }\n",
              "</style>\n",
              "<table border=\"1\" class=\"dataframe\">\n",
              "  <thead>\n",
              "    <tr style=\"text-align: right;\">\n",
              "      <th></th>\n",
              "      <th>InvoiceNo</th>\n",
              "      <th>StockCode</th>\n",
              "      <th>Description</th>\n",
              "      <th>Quantity</th>\n",
              "      <th>InvoiceDate</th>\n",
              "      <th>UnitPrice</th>\n",
              "      <th>CustomerID</th>\n",
              "      <th>Country</th>\n",
              "      <th>Total_Transaction_Value</th>\n",
              "    </tr>\n",
              "  </thead>\n",
              "  <tbody>\n",
              "    <tr>\n",
              "      <th>0</th>\n",
              "      <td>536365</td>\n",
              "      <td>85123A</td>\n",
              "      <td>WHITE HANGING HEART T-LIGHT HOLDER</td>\n",
              "      <td>6</td>\n",
              "      <td>2010-12-01 08:26:00</td>\n",
              "      <td>2.55</td>\n",
              "      <td>17850</td>\n",
              "      <td>United Kingdom</td>\n",
              "      <td>15.30</td>\n",
              "    </tr>\n",
              "    <tr>\n",
              "      <th>1</th>\n",
              "      <td>536365</td>\n",
              "      <td>71053</td>\n",
              "      <td>WHITE METAL LANTERN</td>\n",
              "      <td>6</td>\n",
              "      <td>2010-12-01 08:26:00</td>\n",
              "      <td>3.39</td>\n",
              "      <td>17850</td>\n",
              "      <td>United Kingdom</td>\n",
              "      <td>20.34</td>\n",
              "    </tr>\n",
              "    <tr>\n",
              "      <th>2</th>\n",
              "      <td>536365</td>\n",
              "      <td>84406B</td>\n",
              "      <td>CREAM CUPID HEARTS COAT HANGER</td>\n",
              "      <td>8</td>\n",
              "      <td>2010-12-01 08:26:00</td>\n",
              "      <td>2.75</td>\n",
              "      <td>17850</td>\n",
              "      <td>United Kingdom</td>\n",
              "      <td>22.00</td>\n",
              "    </tr>\n",
              "    <tr>\n",
              "      <th>3</th>\n",
              "      <td>536365</td>\n",
              "      <td>84029G</td>\n",
              "      <td>KNITTED UNION FLAG HOT WATER BOTTLE</td>\n",
              "      <td>6</td>\n",
              "      <td>2010-12-01 08:26:00</td>\n",
              "      <td>3.39</td>\n",
              "      <td>17850</td>\n",
              "      <td>United Kingdom</td>\n",
              "      <td>20.34</td>\n",
              "    </tr>\n",
              "    <tr>\n",
              "      <th>4</th>\n",
              "      <td>536365</td>\n",
              "      <td>84029E</td>\n",
              "      <td>RED WOOLLY HOTTIE WHITE HEART.</td>\n",
              "      <td>6</td>\n",
              "      <td>2010-12-01 08:26:00</td>\n",
              "      <td>3.39</td>\n",
              "      <td>17850</td>\n",
              "      <td>United Kingdom</td>\n",
              "      <td>20.34</td>\n",
              "    </tr>\n",
              "    <tr>\n",
              "      <th>...</th>\n",
              "      <td>...</td>\n",
              "      <td>...</td>\n",
              "      <td>...</td>\n",
              "      <td>...</td>\n",
              "      <td>...</td>\n",
              "      <td>...</td>\n",
              "      <td>...</td>\n",
              "      <td>...</td>\n",
              "      <td>...</td>\n",
              "    </tr>\n",
              "    <tr>\n",
              "      <th>535100</th>\n",
              "      <td>581587</td>\n",
              "      <td>22613</td>\n",
              "      <td>PACK OF 20 SPACEBOY NAPKINS</td>\n",
              "      <td>12</td>\n",
              "      <td>2011-12-09 12:50:00</td>\n",
              "      <td>0.85</td>\n",
              "      <td>12680</td>\n",
              "      <td>France</td>\n",
              "      <td>10.20</td>\n",
              "    </tr>\n",
              "    <tr>\n",
              "      <th>535101</th>\n",
              "      <td>581587</td>\n",
              "      <td>22899</td>\n",
              "      <td>CHILDREN'S APRON DOLLY GIRL</td>\n",
              "      <td>6</td>\n",
              "      <td>2011-12-09 12:50:00</td>\n",
              "      <td>2.10</td>\n",
              "      <td>12680</td>\n",
              "      <td>France</td>\n",
              "      <td>12.60</td>\n",
              "    </tr>\n",
              "    <tr>\n",
              "      <th>535102</th>\n",
              "      <td>581587</td>\n",
              "      <td>23254</td>\n",
              "      <td>CHILDRENS CUTLERY DOLLY GIRL</td>\n",
              "      <td>4</td>\n",
              "      <td>2011-12-09 12:50:00</td>\n",
              "      <td>4.15</td>\n",
              "      <td>12680</td>\n",
              "      <td>France</td>\n",
              "      <td>16.60</td>\n",
              "    </tr>\n",
              "    <tr>\n",
              "      <th>535103</th>\n",
              "      <td>581587</td>\n",
              "      <td>23255</td>\n",
              "      <td>CHILDRENS CUTLERY CIRCUS PARADE</td>\n",
              "      <td>4</td>\n",
              "      <td>2011-12-09 12:50:00</td>\n",
              "      <td>4.15</td>\n",
              "      <td>12680</td>\n",
              "      <td>France</td>\n",
              "      <td>16.60</td>\n",
              "    </tr>\n",
              "    <tr>\n",
              "      <th>535104</th>\n",
              "      <td>581587</td>\n",
              "      <td>22138</td>\n",
              "      <td>BAKING SET 9 PIECE RETROSPOT</td>\n",
              "      <td>3</td>\n",
              "      <td>2011-12-09 12:50:00</td>\n",
              "      <td>4.95</td>\n",
              "      <td>12680</td>\n",
              "      <td>France</td>\n",
              "      <td>14.85</td>\n",
              "    </tr>\n",
              "  </tbody>\n",
              "</table>\n",
              "<p>535105 rows × 9 columns</p>\n",
              "</div>"
            ],
            "text/plain": [
              "       InvoiceNo StockCode                          Description  Quantity  \\\n",
              "0         536365    85123A   WHITE HANGING HEART T-LIGHT HOLDER         6   \n",
              "1         536365     71053                  WHITE METAL LANTERN         6   \n",
              "2         536365    84406B       CREAM CUPID HEARTS COAT HANGER         8   \n",
              "3         536365    84029G  KNITTED UNION FLAG HOT WATER BOTTLE         6   \n",
              "4         536365    84029E       RED WOOLLY HOTTIE WHITE HEART.         6   \n",
              "...          ...       ...                                  ...       ...   \n",
              "535100    581587     22613          PACK OF 20 SPACEBOY NAPKINS        12   \n",
              "535101    581587     22899         CHILDREN'S APRON DOLLY GIRL          6   \n",
              "535102    581587     23254        CHILDRENS CUTLERY DOLLY GIRL          4   \n",
              "535103    581587     23255      CHILDRENS CUTLERY CIRCUS PARADE         4   \n",
              "535104    581587     22138        BAKING SET 9 PIECE RETROSPOT          3   \n",
              "\n",
              "                InvoiceDate  UnitPrice  CustomerID         Country  \\\n",
              "0       2010-12-01 08:26:00       2.55       17850  United Kingdom   \n",
              "1       2010-12-01 08:26:00       3.39       17850  United Kingdom   \n",
              "2       2010-12-01 08:26:00       2.75       17850  United Kingdom   \n",
              "3       2010-12-01 08:26:00       3.39       17850  United Kingdom   \n",
              "4       2010-12-01 08:26:00       3.39       17850  United Kingdom   \n",
              "...                     ...        ...         ...             ...   \n",
              "535100  2011-12-09 12:50:00       0.85       12680          France   \n",
              "535101  2011-12-09 12:50:00       2.10       12680          France   \n",
              "535102  2011-12-09 12:50:00       4.15       12680          France   \n",
              "535103  2011-12-09 12:50:00       4.15       12680          France   \n",
              "535104  2011-12-09 12:50:00       4.95       12680          France   \n",
              "\n",
              "        Total_Transaction_Value  \n",
              "0                         15.30  \n",
              "1                         20.34  \n",
              "2                         22.00  \n",
              "3                         20.34  \n",
              "4                         20.34  \n",
              "...                         ...  \n",
              "535100                    10.20  \n",
              "535101                    12.60  \n",
              "535102                    16.60  \n",
              "535103                    16.60  \n",
              "535104                    14.85  \n",
              "\n",
              "[535105 rows x 9 columns]"
            ]
          },
          "execution_count": 31,
          "metadata": {},
          "output_type": "execute_result"
        }
      ],
      "source": [
        "#load processed data and display\n",
        "\n",
        "load_data = pd.read_csv(\"C:\\\\Users\\\\moby1\\\\Documents\\\\Capstone-Project\\\\Online_Retail_Analysis_Capstone_Project\\\\data_set\\\\processed_data\\\\Processed_Online_Retail.csv\") \n",
        "\n",
        "load_data\n"
      ]
    },
    {
      "cell_type": "markdown",
      "metadata": {},
      "source": [
        "# **Statistical Summary and Probability Test**\n",
        "\n",
        "Statistics, probability, and data analysis are key to data cleaning as they help detect errors, handle missing values, prevent bias, and ensure data integrity leading to more accurate and reliable insights."
      ]
    },
    {
      "cell_type": "markdown",
      "metadata": {},
      "source": [
        "**Statistical Summary**\n",
        "\n",
        "A statistical summary is shown in data analytics to provide a concise overview of the key characteristics of a dataset. This includes metrics such as the mean, median, standard deviation, minimum, maximum, and quartiles. The main reasons for presenting a statistical summary are:\n",
        "\n",
        "- Understand data distribution: quickly identifies how the data is spread and whether it's skewed or normally distributed.\n",
        "\n",
        "- Identify outliers and anomalies: highlights unusual values that may need further investigation or cleaning.\n",
        "\n",
        "- Assess central tendency and variability: shows the average behaviour of the data and how much it varies, which is crucial for decision making.\n",
        "\n",
        "- Support data driven decisions: stakeholders can make more informed choices when they understand the overall patterns and trends within the data.\n",
        "\n",
        "- Guide further analysis: initial insights from statistical summaries help determine appropriate analytical techniques, such as hypothesis testing or predictive modeling.\n",
        "\n",
        "In essence, a statistical summary acts as a foundational step in the analytics process, offering clarity and direction for more in depth analysis."
      ]
    },
    {
      "cell_type": "code",
      "execution_count": 48,
      "metadata": {},
      "outputs": [
        {
          "name": "stdout",
          "output_type": "stream",
          "text": [
            "count    535105.000000\n",
            "mean         18.175885\n",
            "std         381.200963\n",
            "min     -168469.600000\n",
            "25%           3.750000\n",
            "50%           9.900000\n",
            "75%          17.400000\n",
            "max      168469.600000\n",
            "Name: Total_Transaction_Value, dtype: float64\n"
          ]
        }
      ],
      "source": [
        "#load dataset\n",
        "df = pd.read_csv(\"C:\\\\Users\\\\moby1\\\\Documents\\\\Capstone-Project\\\\Online_Retail_Analysis_Capstone_Project\\\\data_set\\\\processed_data\\\\Processed_Online_Retail.csv\") \n",
        "\n",
        "summary = df['Total_Transaction_Value'].describe() #statistical summary of total transaction value\n",
        "print(summary) #display summary"
      ]
    },
    {
      "cell_type": "markdown",
      "metadata": {},
      "source": [
        "The mean is commonly used in data analytics because it provides a simple yet powerful measure of central tendency, offering insight into the typical value within a dataset. The main reasons for using the mean in data analytics are; summarise data, useful for comparisons, supports decision making, foundation for statistical models and easy to calculate and understand. As we can see above the average transaction value is £18.18"
      ]
    },
    {
      "cell_type": "markdown",
      "metadata": {},
      "source": [
        "Using a T-test helps statistically validate whether the observed difference (£18.18) in average transaction value is meaningful, rather than relying on assumptions or visual interpretation alone. It ensures data driven decisions backed by evidence.\n",
        "\n",
        "T Test will be used to see if the observed average transaction value (£18.18) just a result of random variation or is it truly lower than £20."
      ]
    },
    {
      "cell_type": "code",
      "execution_count": 58,
      "metadata": {},
      "outputs": [
        {
          "name": "stdout",
          "output_type": "stream",
          "text": [
            "T-statistic: -3.5004\n",
            "P-value: 0.0005\n"
          ]
        }
      ],
      "source": [
        "transaction_values = processed_data['Total_Transaction_Value'] #data for t-test\n",
        "\n",
        "t_stat, p_value = ttest_1samp(transaction_values, popmean=20) #test if average transaction value is significantly different from 20\n",
        "\n",
        "print(f\"T-statistic: {t_stat:.4f}\") #display t-statistic\n",
        "print(f\"P-value: {p_value:.4f}\") #display p-value"
      ]
    },
    {
      "cell_type": "markdown",
      "metadata": {},
      "source": [
        "- P-value = 0.0005 < 0.05\n",
        "\n",
        "There is a significant difference between the average transaction value and the test value (£20).\n",
        "\n",
        "- T-statistic is negative (-3.5)\n",
        "\n",
        "This means the actual average is lower than the set value.\n",
        "\n",
        "**Key Insights:**\n",
        "\n",
        "- Most transaction values are clustered around the mean.\n",
        "\n",
        "- The test value (£20) is slightly higher than the mean.\n",
        "\n",
        "- The distribution appears to be roughly symmetric, suggesting that the data may be normally distributed.\n",
        "\n",
        "**Conclusion:**\n",
        "\n",
        "There is strong evidence that the average transaction value is significantly lower than 20. This could imply that customers are spending less per transaction than expected."
      ]
    },
    {
      "cell_type": "markdown",
      "metadata": {},
      "source": [
        "**Probability Test**\n",
        "\n",
        "A probability test is essential in data analytics as it lends statistical validity to insights. By quantifying the likelihood that observed patterns occurred by chance, it enables businesses to make informed, evidence based decisions rather than relying on intuition.\n",
        "\n",
        "Test - What is the probability that a randomly selected transaction is from the United Kingdom?"
      ]
    },
    {
      "cell_type": "code",
      "execution_count": 60,
      "metadata": {},
      "outputs": [
        {
          "name": "stdout",
          "output_type": "stream",
          "text": [
            "Probability of a transaction being from the UK: 91.34%\n"
          ]
        }
      ],
      "source": [
        "#total number of transactions\n",
        "total_transactions = len(df) \n",
        "\n",
        "#number of UK transactions\n",
        "uk_transactions = len(df[df['Country'] == 'United Kingdom'])\n",
        "\n",
        "#calculate probability\n",
        "prob_uk = uk_transactions / total_transactions \n",
        "\n",
        "print(f\"Probability of a transaction being from the UK: {prob_uk:.2%}\") #display probability "
      ]
    },
    {
      "cell_type": "markdown",
      "metadata": {},
      "source": [
        "The probability of a transaction being from the UK is 91.34%, indicating that the vast majority of purchases in the dataset originate from UK customers. This highlights the UK as the primary market for the business."
      ]
    },
    {
      "cell_type": "code",
      "execution_count": 51,
      "metadata": {},
      "outputs": [
        {
          "data": {
            "image/png": "[encoded data removed]",
            "text/plain": [
              "<Figure size 300x300 with 1 Axes>"
            ]
          },
          "metadata": {},
          "output_type": "display_data"
        }
      ],
      "source": [
        "#calculate number of Non-UK transactions\n",
        "non_uk_transactions = total_transactions - uk_transactions\n",
        "\n",
        "#data for chart\n",
        "labels = ['United Kingdom', 'Other Countries'] \n",
        "values = [uk_transactions, non_uk_transactions]\n",
        "colors = ['skyblue', 'lightgray']\n",
        "\n",
        "plt.figure(figsize=(3, 3)) #plot size\n",
        "plt.pie(values, labels=labels, colors=colors, autopct='%1.1f%%', startangle=140) #pie chart\n",
        "plt.title('probability that a randomly selected transaction is from the United Kingdom?') #title\n",
        "plt.axis('equal')  #ensure pie is a circle\n",
        "plt.show() #display plot"
      ]
    }
  ],
  "metadata": {
    "accelerator": "GPU",
    "colab": {
      "name": "Data Practitioner Jupyter Notebook.ipynb",
      "provenance": [],
      "toc_visible": true
    },
    "kernelspec": {
      "display_name": ".venv",
      "language": "python",
      "name": "python3"
    },
    "language_info": {
      "codemirror_mode": {
        "name": "ipython",
        "version": 3
      },
      "file_extension": ".py",
      "mimetype": "text/x-python",
      "name": "python",
      "nbconvert_exporter": "python",
      "pygments_lexer": "ipython3",
      "version": "3.12.8"
    },
    "orig_nbformat": 2
  },
  "nbformat": 4,
  "nbformat_minor": 2
}
